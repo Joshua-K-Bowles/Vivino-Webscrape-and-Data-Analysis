{
  "nbformat": 4,
  "nbformat_minor": 0,
  "metadata": {
    "colab": {
      "name": "Vivino Webscraper.ipynb",
      "provenance": [],
      "authorship_tag": "ABX9TyOMYTrRM6bPAIydVnzehgxq",
      "include_colab_link": true
    },
    "kernelspec": {
      "name": "python3",
      "display_name": "Python 3"
    },
    "language_info": {
      "name": "python"
    }
  },
  "cells": [
    {
      "cell_type": "markdown",
      "metadata": {
        "id": "view-in-github",
        "colab_type": "text"
      },
      "source": [
        "<a href=\"https://colab.research.google.com/github/Joshua-K-Bowles/Vivino-Webscrape-and-Data-Analysis/blob/main/Vivino_Webscraper.ipynb\" target=\"_parent\"><img src=\"https://colab.research.google.com/assets/colab-badge.svg\" alt=\"Open In Colab\"/></a>"
      ]
    },
    {
      "cell_type": "markdown",
      "source": [
        "# Vivino: Web Scraping for Spanish Wine\n",
        "\n",
        "Thanks to the wonderful community at Stack Overflow. Below are the bases for this program:\n",
        "\n",
        "[Thanks to Gustavo de Rosa](https://stackoverflow.com/questions/66490984/web-scraping-dynamic-website-with-scrapy-and-query-string-parameters/66713543#66713543) \n",
        "\n",
        "[Other Inspiration](https://stackoverflow.com/questions/69358974/scraping-the-english-vivino-com-reviews-from-the-website/69369414#69369414) "
      ],
      "metadata": {
        "id": "z68wh6kABCrc"
      }
    },
    {
      "cell_type": "code",
      "execution_count": null,
      "metadata": {
        "colab": {
          "base_uri": "https://localhost:8080/"
        },
        "id": "tfbbjHMiATUm",
        "outputId": "eaf60452-4c9a-4afc-8e99-d0a5f2f29f73"
      },
      "outputs": [
        {
          "output_type": "stream",
          "name": "stdout",
          "text": [
            "Mounted at drive\n"
          ]
        }
      ],
      "source": [
        "# Set up connection to Google Drive\n",
        "from google.colab import drive\n",
        "drive.mount('drive')"
      ]
    },
    {
      "cell_type": "code",
      "source": [
        "\n"
      ],
      "metadata": {
        "id": "4nb7Y1_JAXKo"
      },
      "execution_count": null,
      "outputs": []
    },
    {
      "cell_type": "code",
      "source": [
        "# Create Headers\n",
        "headers = {\n",
        "    \"User-Agent\": \"Mozilla/5.0 (X11; Ubuntu; Linux x86_64; rv:89.0) Gecko/20100101 Firefox/89.0\",\n",
        "}\n",
        "\n",
        "# Create Parameters\n",
        "params = {\n",
        "        \"country_codes[]\": [\"es\"],  # \"FR\", \"IT\", \"DE\", \"CL\", \"PT\", \"AU\", \"AT\", \"AR\", \"US\" <-- can add more country codes here\n",
        "        \"currency_code\": \"EUR\",\n",
        "        \"grape_filter\": \"varietal\",\n",
        "        \"min_rating\": \"1\",\n",
        "        \"order_by\": \"price\",\n",
        "        \"order\": \"asc\",\n",
        "        \"page\": 1,\n",
        "        \"price_range_max\": \"500\",\n",
        "        \"price_range_min\": \"0\",\n",
        "        \"wine_type_ids[]\": \"1\",\n",
        "}\n",
        "\n",
        "# Performs inital request for count of IDs\n",
        "r = requests.get('https://www.vivino.com/api/explore/explore?',\n",
        "                 params=params, headers=headers)\n",
        "n_matches = r.json()['explore_vintage']['records_matched']\n"
      ],
      "metadata": {
        "id": "e4be1VllAbsS"
      },
      "execution_count": null,
      "outputs": []
    },
    {
      "cell_type": "code",
      "source": [
        "# Create New Dataframe to store output\n",
        "column_names=[\"Winery\", \"Year\", \"Wine ID\", \"Wine\", \"Rating\", \"num_review\", \"price\",'Country','Region']\n",
        "df = pd.DataFrame(columns = column_names)"
      ],
      "metadata": {
        "id": "HF8AvYMKAg2k"
      },
      "execution_count": null,
      "outputs": []
    },
    {
      "cell_type": "code",
      "source": [
        "# Pagination\n",
        "# A page is defined by n_matches divided by 25 (number of results per page)\n",
        "for i in range(int(n_matches / 25)):\n",
        "    # Adds the page to params\n",
        "    params['page'] = i + 1\n",
        "\n",
        "    print(f'Requesting data from page: {params[\"page\"]}')\n",
        "\n",
        "    # Performs the request \n",
        "    r = requests.get('https://www.vivino.com/api/explore/explore?',\n",
        "                 params=params, headers=headers)\n",
        "    # Scraped Results\n",
        "    results = [\n",
        "        (\n",
        "            t[\"vintage\"][\"wine\"][\"winery\"][\"name\"],\n",
        "            t[\"vintage\"][\"year\"],\n",
        "            t[\"vintage\"][\"wine\"][\"id\"],\n",
        "            f'{t[\"vintage\"][\"wine\"][\"name\"]} {t[\"vintage\"][\"year\"]}',\n",
        "            t[\"vintage\"][\"statistics\"][\"ratings_average\"],\n",
        "            t[\"vintage\"][\"statistics\"][\"ratings_count\"],\n",
        "            t[\"prices\"][0][\"amount\"],\n",
        "            t['vintage']['wine']['region']['country']['name'],\n",
        "            t['vintage']['wine']['region']['name'],\n",
        "\n",
        "        )\n",
        "        for t in r.json()[\"explore_vintage\"][\"matches\"] \n",
        "    ]       \n",
        "    # Appends the scraped results to the dataframe\n",
        "    df2 = pd.DataFrame(results, columns=column_names)\n",
        "    df = df.append(df2)"
      ],
      "metadata": {
        "colab": {
          "base_uri": "https://localhost:8080/"
        },
        "id": "CTETaPZYAkaV",
        "outputId": "7e6ff029-ba3a-4e90-fce8-781171f13f45"
      },
      "execution_count": null,
      "outputs": [
        {
          "output_type": "stream",
          "name": "stdout",
          "text": [
            "Requesting data from page: 1\n",
            "Requesting data from page: 2\n",
            "Requesting data from page: 3\n",
            "Requesting data from page: 4\n",
            "Requesting data from page: 5\n",
            "Requesting data from page: 6\n",
            "Requesting data from page: 7\n",
            "Requesting data from page: 8\n",
            "Requesting data from page: 9\n",
            "Requesting data from page: 10\n",
            "Requesting data from page: 11\n",
            "Requesting data from page: 12\n",
            "Requesting data from page: 13\n",
            "Requesting data from page: 14\n",
            "Requesting data from page: 15\n",
            "Requesting data from page: 16\n",
            "Requesting data from page: 17\n",
            "Requesting data from page: 18\n",
            "Requesting data from page: 19\n",
            "Requesting data from page: 20\n",
            "Requesting data from page: 21\n",
            "Requesting data from page: 22\n",
            "Requesting data from page: 23\n",
            "Requesting data from page: 24\n",
            "Requesting data from page: 25\n",
            "Requesting data from page: 26\n",
            "Requesting data from page: 27\n",
            "Requesting data from page: 28\n",
            "Requesting data from page: 29\n",
            "Requesting data from page: 30\n",
            "Requesting data from page: 31\n",
            "Requesting data from page: 32\n",
            "Requesting data from page: 33\n",
            "Requesting data from page: 34\n",
            "Requesting data from page: 35\n",
            "Requesting data from page: 36\n",
            "Requesting data from page: 37\n",
            "Requesting data from page: 38\n",
            "Requesting data from page: 39\n",
            "Requesting data from page: 40\n",
            "Requesting data from page: 41\n",
            "Requesting data from page: 42\n",
            "Requesting data from page: 43\n",
            "Requesting data from page: 44\n",
            "Requesting data from page: 45\n",
            "Requesting data from page: 46\n",
            "Requesting data from page: 47\n",
            "Requesting data from page: 48\n",
            "Requesting data from page: 49\n",
            "Requesting data from page: 50\n",
            "Requesting data from page: 51\n",
            "Requesting data from page: 52\n",
            "Requesting data from page: 53\n",
            "Requesting data from page: 54\n",
            "Requesting data from page: 55\n",
            "Requesting data from page: 56\n",
            "Requesting data from page: 57\n",
            "Requesting data from page: 58\n",
            "Requesting data from page: 59\n",
            "Requesting data from page: 60\n",
            "Requesting data from page: 61\n",
            "Requesting data from page: 62\n",
            "Requesting data from page: 63\n",
            "Requesting data from page: 64\n",
            "Requesting data from page: 65\n",
            "Requesting data from page: 66\n",
            "Requesting data from page: 67\n",
            "Requesting data from page: 68\n",
            "Requesting data from page: 69\n",
            "Requesting data from page: 70\n",
            "Requesting data from page: 71\n",
            "Requesting data from page: 72\n",
            "Requesting data from page: 73\n",
            "Requesting data from page: 74\n",
            "Requesting data from page: 75\n",
            "Requesting data from page: 76\n",
            "Requesting data from page: 77\n",
            "Requesting data from page: 78\n",
            "Requesting data from page: 79\n",
            "Requesting data from page: 80\n",
            "Requesting data from page: 81\n",
            "Requesting data from page: 82\n",
            "Requesting data from page: 83\n",
            "Requesting data from page: 84\n",
            "Requesting data from page: 85\n",
            "Requesting data from page: 86\n",
            "Requesting data from page: 87\n",
            "Requesting data from page: 88\n",
            "Requesting data from page: 89\n",
            "Requesting data from page: 90\n",
            "Requesting data from page: 91\n",
            "Requesting data from page: 92\n",
            "Requesting data from page: 93\n",
            "Requesting data from page: 94\n",
            "Requesting data from page: 95\n",
            "Requesting data from page: 96\n",
            "Requesting data from page: 97\n",
            "Requesting data from page: 98\n",
            "Requesting data from page: 99\n",
            "Requesting data from page: 100\n",
            "Requesting data from page: 101\n",
            "Requesting data from page: 102\n",
            "Requesting data from page: 103\n",
            "Requesting data from page: 104\n",
            "Requesting data from page: 105\n",
            "Requesting data from page: 106\n",
            "Requesting data from page: 107\n",
            "Requesting data from page: 108\n",
            "Requesting data from page: 109\n",
            "Requesting data from page: 110\n",
            "Requesting data from page: 111\n",
            "Requesting data from page: 112\n",
            "Requesting data from page: 113\n",
            "Requesting data from page: 114\n",
            "Requesting data from page: 115\n",
            "Requesting data from page: 116\n",
            "Requesting data from page: 117\n",
            "Requesting data from page: 118\n",
            "Requesting data from page: 119\n",
            "Requesting data from page: 120\n",
            "Requesting data from page: 121\n",
            "Requesting data from page: 122\n",
            "Requesting data from page: 123\n",
            "Requesting data from page: 124\n",
            "Requesting data from page: 125\n",
            "Requesting data from page: 126\n",
            "Requesting data from page: 127\n",
            "Requesting data from page: 128\n",
            "Requesting data from page: 129\n",
            "Requesting data from page: 130\n",
            "Requesting data from page: 131\n"
          ]
        }
      ]
    },
    {
      "cell_type": "code",
      "source": [
        "# Saves the file to CSV\n",
        "df.to_csv(\"vivino.csv\", index=False)\n",
        "!cp vivino.csv \"drive/My Drive/\""
      ],
      "metadata": {
        "id": "Zf7aS_LVA1z1"
      },
      "execution_count": null,
      "outputs": []
    }
  ]
}